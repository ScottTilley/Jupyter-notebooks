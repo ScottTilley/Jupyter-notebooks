{
 "cells": [
  {
   "cell_type": "code",
   "execution_count": 1,
   "metadata": {},
   "outputs": [],
   "source": [
    "#LES-5 DC-to-DC solar converter data summary\n",
    "\n",
    "import struct\n",
    "import datetime\n",
    "import numpy as np\n",
    "import os\n",
    "import matplotlib.pyplot as plt\n",
    "\n",
    "# uncomment this command below to display the DC-to-DC converter channels so you can zoom into and measure data.\n",
    "#%matplotlib qt\n"
   ]
  },
  {
   "cell_type": "code",
   "execution_count": 2,
   "metadata": {},
   "outputs": [
    {
     "name": "stdout",
     "output_type": "stream",
     "text": [
      "892994\n"
     ]
    }
   ],
   "source": [
    "#open data file and determine the file lenght in bytes\n",
    "#concatenate all of the pass#_data into les5_data...\n",
    "\n",
    "with open(\"les5_data\", \"rb\") as binary_file:\n",
    "    # Read the whole file at once\n",
    "    byte_range = binary_file.read() \n",
    "    \n",
    "file_length_in_bytes = os.path.getsize(\"les5_data\")\n",
    "frame_count = int(file_length_in_bytes/36)\n",
    "print(frame_count)"
   ]
  },
  {
   "cell_type": "code",
   "execution_count": 3,
   "metadata": {},
   "outputs": [],
   "source": [
    "#create a numpy array of UNIX timestamps\n",
    "\n",
    "ts = 0\n",
    "ts_i = 0\n",
    "time_stamps = np.arange(frame_count).reshape(frame_count,1)\n",
    "\n",
    "while ts < frame_count: \n",
    "    time_stamps[ts] = struct.unpack('<I', byte_range[ts_i:ts_i+4])\n",
    "    ts_i = ts_i + 36\n",
    "    ts = ts + 1  \n",
    "    \n",
    "t = time_stamps.astype('datetime64[s]')"
   ]
  },
  {
   "cell_type": "code",
   "execution_count": 4,
   "metadata": {},
   "outputs": [],
   "source": [
    "# Create numpy array of data frames, 32 bytes per frame.  \n",
    "# For LES-5 there are 32 Words (bytes) per Frame.\n",
    "\n",
    "byte_count = 4\n",
    "frame = 0\n",
    "frame_words = np.arange(frame_count*32).reshape(frame_count,32)\n",
    "\n",
    "while frame < frame_count:\n",
    "    for x in range (0,32):\n",
    "        frame_words[frame,x] = byte_range[byte_count+x]\n",
    "    frame = frame + 1\n",
    "    byte_count = (frame * 36) + 4"
   ]
  },
  {
   "cell_type": "code",
   "execution_count": 5,
   "metadata": {},
   "outputs": [
    {
     "name": "stdout",
     "output_type": "stream",
     "text": [
      "2020-04-13 08:03:30\n",
      "2020-07-02 14:55:22\n"
     ]
    },
    {
     "data": {
      "text/plain": [
       "array([ 73, 136,  76,  32,   0,  23,   1, 254, 145,   0, 202, 182, 188,\n",
       "       159,   0, 179, 178, 179, 254,   0,  93,  85,   0, 214,   0, 184,\n",
       "       188, 192,   0,   0, 249,  28])"
      ]
     },
     "execution_count": 5,
     "metadata": {},
     "output_type": "execute_result"
    }
   ],
   "source": [
    "# Display the Timestamp and Frame Words\n",
    "\n",
    "myframe = 0\n",
    "\n",
    "print(datetime.datetime.utcfromtimestamp(time_stamps[myframe]))\n",
    "print(datetime.datetime.utcfromtimestamp(time_stamps[frame_count-1]))\n",
    "\n",
    "frame_words[myframe]\n"
   ]
  },
  {
   "cell_type": "code",
   "execution_count": 6,
   "metadata": {},
   "outputs": [
    {
     "name": "stdout",
     "output_type": "stream",
     "text": [
      "01001001\n",
      "00011100\n"
     ]
    }
   ],
   "source": [
    "#Even frames have 01001001 in word 0 and 00011100 in word 31, while odd frames have the inverted patterns (10110110 in word 0 and 11100011 in word 31).\n",
    "\n",
    "print(\"{0:08b}\".format((frame_words[myframe,0])))\n",
    "print(\"{0:08b}\".format((frame_words[myframe,31])))"
   ]
  },
  {
   "cell_type": "code",
   "execution_count": 7,
   "metadata": {},
   "outputs": [
    {
     "name": "stdout",
     "output_type": "stream",
     "text": [
      "Frame Count\n",
      "01001100\n",
      "01000000\n",
      "01000100\n",
      "01001000\n",
      "Check Frames\n",
      "00100000\n",
      "00100100\n",
      "00101000\n",
      "00101010\n"
     ]
    }
   ],
   "source": [
    "#The frame numbering, in the case of LES-5, can be obtained from the value of word 2. The LESTR-2 report mentions that a value of 01000000 in this word indicates frame 0. However, from looking at the data, we see that indeed the frame number can be obtained from bits 4 and 5 in this word, which form a binary counter than counts up from 0 to 3.\n",
    "#The frame counter cycles through a 2-bit binary sequence, just as expected. Looking at the word immediately after the frame counter, it would appear that the check word that they mentioned is just the current frame count plus one. At first, I was completely surprised that this was the check word, because in other satellites I’ve looked at, it’s usually some form of CRC checksum.\n",
    "print(\"Frame Count\")\n",
    "print(\"{0:08b}\".format((frame_words[myframe,2])))\n",
    "print(\"{0:08b}\".format((frame_words[myframe+1,2])))\n",
    "print(\"{0:08b}\".format((frame_words[myframe+2,2])))\n",
    "print(\"{0:08b}\".format((frame_words[myframe+3,2])))\n",
    "print(\"Check Frames\")\n",
    "print(\"{0:08b}\".format((frame_words[myframe,3])))\n",
    "print(\"{0:08b}\".format((frame_words[myframe+1,3])))\n",
    "print(\"{0:08b}\".format((frame_words[myframe+2,3])))\n",
    "print(\"{0:08b}\".format((frame_words[myframe+3,3])))\n",
    "\n"
   ]
  },
  {
   "cell_type": "code",
   "execution_count": 8,
   "metadata": {},
   "outputs": [
    {
     "name": "stdout",
     "output_type": "stream",
     "text": [
      "0 11111110\n",
      "1 11001111\n",
      "2 10010100\n",
      "3 10101001\n",
      "4 11111110\n",
      "5 11000110\n",
      "6 10010100\n",
      "7 10100111\n",
      "8 11111110\n",
      "9 10111001\n",
      "10 10010100\n",
      "11 10100000\n",
      "12 11111110\n",
      "13 10110001\n",
      "14 10010100\n",
      "15 10011111\n",
      "16 11111110\n",
      "17 10101000\n",
      "18 11111110\n",
      "19 10100000\n",
      "20 11111110\n",
      "21 10011011\n",
      "22 10010100\n",
      "23 10010111\n",
      "24 11111110\n",
      "25 10010100\n",
      "26 10010000\n",
      "27 11111110\n",
      "28 10000011\n",
      "29 10010100\n",
      "30 10001110\n",
      "31 11111110\n",
      "32 11110100\n",
      "Start of Group at 32\n",
      "33 11111110\n",
      "34 11101100\n",
      "35 10010100\n",
      "36 10001011\n",
      "37 11100110\n",
      "38 11010111\n",
      "39 11111110\n",
      "40 11000110\n",
      "41 11111110\n",
      "42 10110000\n",
      "43 10010100\n",
      "44 01110101\n",
      "45 11111110\n",
      "46 10101000\n",
      "47 10010100\n",
      "48 11111110\n",
      "49 10100000\n",
      "50 10010100\n",
      "51 01101110\n",
      "52 11111110\n",
      "53 10011011\n",
      "54 10010100\n",
      "55 01101101\n",
      "56 11111110\n",
      "57 10010011\n",
      "58 11111110\n",
      "59 10000011\n",
      "60 10010100\n",
      "61 01100100\n",
      "62 11111110\n",
      "63 11110100\n",
      "Start of Group at 63\n",
      "64 10010100\n",
      "65 11111110\n",
      "66 11101100\n",
      "67 10010100\n",
      "68 10111000\n",
      "69 10010100\n",
      "70 11111110\n",
      "71 11111111\n",
      "72 11011111\n",
      "73 10010100\n",
      "74 11111100\n",
      "75 11111110\n",
      "76 11010111\n",
      "77 00010100\n",
      "78 11111011\n",
      "79 11111110\n",
      "80 11001111\n",
      "81 10010100\n",
      "82 11110110\n",
      "83 11111110\n",
      "84 11000110\n",
      "85 10010100\n",
      "86 11111110\n",
      "87 10111110\n",
      "88 10010100\n",
      "89 00010100\n",
      "90 11101110\n",
      "91 11111110\n",
      "92 10101000\n",
      "93 10010100\n",
      "94 11101011\n",
      "95 11111110\n",
      "96 10100000\n",
      "97 10010100\n",
      "98 11101001\n",
      "99 11111110\n",
      "100 10011011\n",
      "101 10010100\n",
      "102 11100100\n",
      "103 11111110\n",
      "104 10010011\n",
      "105 10010100\n",
      "106 11100010\n",
      "107 10010100\n",
      "108 11011111\n",
      "109 10010100\n",
      "110 11011010\n",
      "111 11111110\n",
      "112 11101100\n",
      "113 01010100\n",
      "114 11111110\n",
      "115 11100100\n",
      "116 10010100\n",
      "117 11010111\n",
      "118 10010100\n",
      "119 11010101\n",
      "120 11111110\n",
      "121 11010111\n",
      "122 10010100\n",
      "123 11010000\n",
      "124 11111110\n",
      "125 11001110\n",
      "126 10010100\n",
      "127 11001110\n"
     ]
    }
   ],
   "source": [
    "# the start of a group can be recognised because word 7 in frame 0 has the value 11110100.\n",
    "x = 0\n",
    "for x in range (0,128):\n",
    "    print(x, \"{0:08b}\".format((frame_words[myframe+x,7])))\n",
    "    if frame_words[myframe+x,7] == 244:\n",
    "        print(\"Start of Group at\", myframe+x)   "
   ]
  },
  {
   "cell_type": "code",
   "execution_count": 9,
   "metadata": {},
   "outputs": [
    {
     "data": {
      "text/plain": [
       "8"
      ]
     },
     "execution_count": 9,
     "metadata": {},
     "output_type": "execute_result"
    }
   ],
   "source": [
    "# masking the frame counter bits in Word 2, bits 4 and 5.\n",
    "result = frame_words[myframe+3,2] & 12\n",
    "result"
   ]
  },
  {
   "cell_type": "code",
   "execution_count": 10,
   "metadata": {},
   "outputs": [],
   "source": [
    "FRAME_COUNT_MASK = 12\n",
    "frame0_count = 0 \n",
    "frame1_count = 0\n",
    "frame2_count = 0\n",
    "frame3_count = 0\n",
    "\n",
    "for x in range (0,frame_count):\n",
    "        if frame_words[x,2] & FRAME_COUNT_MASK == 0:\n",
    "            frame0_count = frame0_count + 1\n",
    "        if frame_words[x,2] & FRAME_COUNT_MASK == 4:\n",
    "            frame1_count = frame1_count + 1\n",
    "        if frame_words[x,2] & FRAME_COUNT_MASK == 8:\n",
    "            frame2_count = frame2_count + 1\n",
    "        if frame_words[x,2] & FRAME_COUNT_MASK == 12:\n",
    "            frame3_count = frame3_count + 1   \n",
    "            \n",
    "\n",
    "frame0_words = np.arange(frame0_count*32).reshape(frame0_count,32)\n",
    "frame1_words = np.arange(frame1_count*32).reshape(frame1_count,32)\n",
    "frame2_words = np.arange(frame2_count*32).reshape(frame2_count,32)\n",
    "frame3_words = np.arange(frame3_count*32).reshape(frame3_count,32)\n",
    "\n",
    "frame0_timestamps = np.arange(frame0_count*32).reshape(frame0_count,32)\n",
    "frame1_timestamps = np.arange(frame1_count*32).reshape(frame1_count,32)\n",
    "frame2_timestamps = np.arange(frame2_count*32).reshape(frame2_count,32)\n",
    "frame3_timestamps = np.arange(frame3_count*32).reshape(frame3_count,32)\n",
    "\n",
    "frame = 0\n",
    "frame0_count = 0\n",
    "frame1_count = 0\n",
    "frame2_count = 0\n",
    "frame3_count = 0\n",
    "\n",
    "while frame < frame_count:\n",
    "    if frame_words[frame,2] & FRAME_COUNT_MASK == 0: \n",
    "        for x in range (0,32):\n",
    "            frame0_words[frame0_count,x] = frame_words[frame,x]\n",
    "            frame0_timestamps[frame0_count] = time_stamps[frame]\n",
    "        #print(\"FRAME 0:\",frame, frame0_cnt, frame0_words[frame0_cnt,x],frame_words[frame,x])\n",
    "        frame0_count = frame0_count + 1\n",
    "    \n",
    "    if frame_words[frame,2] & FRAME_COUNT_MASK == 4: \n",
    "        for x in range (0,32):\n",
    "            frame1_words[frame1_count,x] = frame_words[frame,x]\n",
    "            frame1_timestamps[frame1_count] = time_stamps[frame]\n",
    "        #print(\"FRAME 1:\",frame, frame1_cnt, frame1_words[frame1_cnt,x],frame_words[frame,x])\n",
    "        frame1_count = frame1_count + 1    \n",
    "    \n",
    "    if frame_words[frame,2] & FRAME_COUNT_MASK == 8: \n",
    "        for x in range (0,32):\n",
    "            frame2_words[frame2_count,x] = frame_words[frame,x]\n",
    "            frame2_timestamps[frame2_count] = time_stamps[frame]\n",
    "        #print(\"FRAME 2:\",frame, frame2_cnt, frame2_words[frame2_cnt,x],frame_words[frame,x])\n",
    "        frame2_count = frame2_count + 1    \n",
    "        \n",
    "    if frame_words[frame,2] & FRAME_COUNT_MASK == 12: \n",
    "        for x in range (0,32):\n",
    "            frame3_words[frame3_count,x] = frame_words[frame,x]\n",
    "            frame3_timestamps[frame3_count] = time_stamps[frame]\n",
    "        #print(\"FRAME 3:\",frame, frame3_cnt, frame3_words[frame3_cnt,x],frame_words[frame,x])\n",
    "        frame3_count = frame3_count + 1 \n",
    "    \n",
    "    frame = frame + 1    \n",
    "\n",
    "t0 = frame0_timestamps.astype('datetime64[s]')\n",
    "t1 = frame1_timestamps.astype('datetime64[s]')\n",
    "t2 = frame2_timestamps.astype('datetime64[s]')    \n",
    "t3 = frame3_timestamps.astype('datetime64[s]')\n",
    "           "
   ]
  },
  {
   "cell_type": "code",
   "execution_count": 11,
   "metadata": {},
   "outputs": [],
   "source": [
    "#Full pass LES-5 telemetry data summary\n",
    "\n",
    "X = 15\n",
    "Y = 5\n",
    "MARKERSIZE = .01\n",
    "ALPHA = .5\n",
    "SYNC_COLOR = 'red'\n",
    "DATA_WORD_COLOR = 'blue'\n",
    "ERROR_DETECTION_WORD_COLOR = 'green'\n",
    "RFI_EXPERIEMNT_DATA_COLOR = 'orange'\n",
    "ZOOMED_DATA_WORD_COLOR = 'violet'"
   ]
  },
  {
   "cell_type": "code",
   "execution_count": 12,
   "metadata": {},
   "outputs": [],
   "source": [
    "#FRAME 1 data words\n",
    "x = 0\n",
    "\n",
    "\n",
    "frame1_word_12 = np.arange(frame1_count).reshape(frame1_count,1)\n",
    "\n",
    "frame1_word_27 = np.arange(frame1_count).reshape(frame1_count,1)\n",
    "\n",
    "for x in range (0,frame1_count):\n",
    "    frame1_word_12[x] = frame1_words[x,12]\n",
    "    frame1_word_27[x] = frame1_words[x,27]\n",
    "    "
   ]
  },
  {
   "cell_type": "code",
   "execution_count": 13,
   "metadata": {},
   "outputs": [],
   "source": [
    "#FRAME 2 data words\n",
    "x = 0\n",
    "\n",
    "\n",
    "frame2_word_17 = np.arange(frame2_count).reshape(frame2_count,1)\n",
    "\n",
    "for x in range (0,frame2_count):\n",
    "    frame2_word_17[x] = frame2_words[x,17]\n",
    "    \n",
    "    "
   ]
  },
  {
   "cell_type": "code",
   "execution_count": 14,
   "metadata": {},
   "outputs": [],
   "source": [
    "#FRAME 3 data words\n",
    "x = 0\n",
    "\n",
    "\n",
    "frame3_word_27 = np.arange(frame3_count).reshape(frame3_count,1)\n",
    "\n",
    "\n",
    "for x in range (0,frame3_count):\n",
    "    frame3_word_27[x] = frame3_words[x,27]\n",
    "   "
   ]
  },
  {
   "cell_type": "code",
   "execution_count": 15,
   "metadata": {},
   "outputs": [
    {
     "data": {
      "image/png": "[encoded data removed]",
      "text/plain": [
       "<Figure size 1080x360 with 1 Axes>"
      ]
     },
     "metadata": {
      "needs_background": "light"
     },
     "output_type": "display_data"
    }
   ],
   "source": [
    "plt.figure(figsize = [X,Y])\n",
    "plt.title('frame1_word_12')\n",
    "plt.plot(t1, frame1_word_12, markersize=MARKERSIZE, alpha=ALPHA, color=DATA_WORD_COLOR);\n"
   ]
  },
  {
   "cell_type": "code",
   "execution_count": 16,
   "metadata": {},
   "outputs": [
    {
     "data": {
      "image/png": "[encoded data removed]",
      "text/plain": [
       "<Figure size 1080x360 with 1 Axes>"
      ]
     },
     "metadata": {
      "needs_background": "light"
     },
     "output_type": "display_data"
    }
   ],
   "source": [
    "plt.figure(figsize = [X,Y])\n",
    "plt.title('frame1_word_27')\n",
    "plt.plot(t1, frame1_word_27, markersize=MARKERSIZE, alpha=ALPHA, color=DATA_WORD_COLOR);\n"
   ]
  },
  {
   "cell_type": "code",
   "execution_count": 17,
   "metadata": {},
   "outputs": [
    {
     "data": {
      "image/png": "[encoded data removed]",
      "text/plain": [
       "<Figure size 1080x360 with 1 Axes>"
      ]
     },
     "metadata": {
      "needs_background": "light"
     },
     "output_type": "display_data"
    }
   ],
   "source": [
    "plt.figure(figsize = [X,Y])\n",
    "plt.title('frame2_word_17')\n",
    "plt.plot(t2, frame2_word_17, markersize=MARKERSIZE, alpha=ALPHA, color=DATA_WORD_COLOR);\n"
   ]
  },
  {
   "cell_type": "code",
   "execution_count": 18,
   "metadata": {},
   "outputs": [
    {
     "data": {
      "image/png": "[encoded data removed]",
      "text/plain": [
       "<Figure size 1080x360 with 1 Axes>"
      ]
     },
     "metadata": {
      "needs_background": "light"
     },
     "output_type": "display_data"
    }
   ],
   "source": [
    "plt.figure(figsize = [X,Y])\n",
    "plt.title('frame3_word_27')\n",
    "plt.plot(t3, frame3_word_27, markersize=MARKERSIZE, alpha=ALPHA, color=DATA_WORD_COLOR);\n"
   ]
  }
 ],
 "metadata": {
  "kernelspec": {
   "display_name": "Python 3",
   "language": "python",
   "name": "python3"
  },
  "language_info": {
   "codemirror_mode": {
    "name": "ipython",
    "version": 3
   },
   "file_extension": ".py",
   "mimetype": "text/x-python",
   "name": "python",
   "nbconvert_exporter": "python",
   "pygments_lexer": "ipython3",
   "version": "3.6.9"
  }
 },
 "nbformat": 4,
 "nbformat_minor": 4
}
